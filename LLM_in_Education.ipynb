{
  "nbformat": 4,
  "nbformat_minor": 0,
  "metadata": {
    "colab": {
      "provenance": [],
      "authorship_tag": "ABX9TyO3yxHCOP9A3Tc6CqtcNuG3",
      "include_colab_link": true
    },
    "kernelspec": {
      "name": "python3",
      "display_name": "Python 3"
    },
    "language_info": {
      "name": "python"
    }
  },
  "cells": [
    {
      "cell_type": "markdown",
      "metadata": {
        "id": "view-in-github",
        "colab_type": "text"
      },
      "source": [
        "<a href=\"https://colab.research.google.com/github/adharshrj/llmsinedu/blob/main/LLM_in_Education.ipynb\" target=\"_parent\"><img src=\"https://colab.research.google.com/assets/colab-badge.svg\" alt=\"Open In Colab\"/></a>"
      ]
    },
    {
      "cell_type": "markdown",
      "source": [
        "Installation"
      ],
      "metadata": {
        "id": "kCAcf27qZ_1d"
      }
    },
    {
      "cell_type": "code",
      "source": [
        "# Pip installation LangChain and Hugginface API\n",
        "!pip install langchain\n",
        "!pip install huggingface_hub\n",
        "\n",
        "# Pip installation of additional needed libraries\n",
        "!pip install sentence_transformers\n",
        "!pip install faiss-cpu\n",
        "!pip install \"unstructured[all-docs]\"\n"
      ],
      "metadata": {
        "id": "HuBNV8gXaBnj"
      },
      "execution_count": null,
      "outputs": []
    },
    {
      "cell_type": "markdown",
      "source": [
        "Env Setup"
      ],
      "metadata": {
        "id": "lDUats7_aH8D"
      }
    },
    {
      "cell_type": "code",
      "source": [
        "import os\n",
        "import requests\n",
        "os.environ[\"HUGGINGFACEHUB_API_TOKEN\"] = \"\"\n",
        "os.environ[\"HF_TOKEN\"] = \"\""
      ],
      "metadata": {
        "id": "lb9Jy9LUaLDu"
      },
      "execution_count": 18,
      "outputs": []
    },
    {
      "cell_type": "markdown",
      "source": [
        "Connect Google Drive"
      ],
      "metadata": {
        "id": "WCWZGR2waNhG"
      }
    },
    {
      "cell_type": "code",
      "source": [
        "from google.colab import drive\n",
        "drive.mount('/content/drive/')"
      ],
      "metadata": {
        "id": "brSCSAe-aOwe"
      },
      "execution_count": null,
      "outputs": []
    },
    {
      "cell_type": "markdown",
      "source": [
        "Setup Loaders"
      ],
      "metadata": {
        "id": "YK-LIyqJaYiM"
      }
    },
    {
      "cell_type": "code",
      "source": [
        "from langchain_community.document_loaders import PyPDFLoader\n",
        "from langchain_community.document_loaders import OnlinePDFLoader"
      ],
      "metadata": {
        "id": "Jh5gTt-Qahni"
      },
      "execution_count": 4,
      "outputs": []
    },
    {
      "cell_type": "code",
      "source": [
        "def loadPDFFromLocal(pdf_file_path=\"/content/drive/MyDrive/LLM_Testing_Docs/clrs.pdf\"):\n",
        "    loader = PyPDFLoader(pdf_file_path)\n",
        "    pages = loader.load_and_split()\n",
        "\n",
        "    # Adding progress tracking\n",
        "    total_pages = len(pages)\n",
        "    for i, page in enumerate(pages):\n",
        "        print(f\"Processing page {i+1} of {total_pages}\")\n",
        "\n",
        "    return pages\n"
      ],
      "metadata": {
        "id": "VIlO9H9bajY_"
      },
      "execution_count": 25,
      "outputs": []
    },
    {
      "cell_type": "code",
      "source": [
        "def loadFromUrl(url=\"https://www.nrel.gov/docs/fy12osti/55871.pdf\"):\n",
        "  onlineLoader = OnlinePDFLoader(url)\n",
        "  newPg = onlineLoader.load_and_split()\n",
        "\n",
        "  print(newPg)\n",
        "  return newPg"
      ],
      "metadata": {
        "id": "16fSqFB9f9z-"
      },
      "execution_count": 40,
      "outputs": []
    },
    {
      "cell_type": "markdown",
      "source": [
        "Split Documents (LLMS cannot read large amounts of data)"
      ],
      "metadata": {
        "id": "kXa2u-ngap3E"
      }
    },
    {
      "cell_type": "code",
      "source": [
        "from langchain.text_splitter import CharacterTextSplitter"
      ],
      "metadata": {
        "id": "wBWWZdtMaw17"
      },
      "execution_count": 9,
      "outputs": []
    },
    {
      "cell_type": "code",
      "source": [
        "def splitDocument(loaded_docs):\n",
        "    # Splitting documents into chunks\n",
        "    splitter = CharacterTextSplitter(chunk_size=1000, chunk_overlap=10)\n",
        "    chunked_docs = splitter.split_documents(loaded_docs)\n",
        "    return chunked_docs"
      ],
      "metadata": {
        "id": "CoOfOT0OayrI"
      },
      "execution_count": 10,
      "outputs": []
    },
    {
      "cell_type": "markdown",
      "source": [
        "Create Embeddings"
      ],
      "metadata": {
        "id": "m_6W4pBOcBRC"
      }
    },
    {
      "cell_type": "code",
      "source": [
        "from langchain.embeddings import HuggingFaceEmbeddings\n",
        "from langchain.vectorstores import FAISS"
      ],
      "metadata": {
        "id": "OglJFVL9cDTh"
      },
      "execution_count": 11,
      "outputs": []
    },
    {
      "cell_type": "code",
      "source": [
        "def createEmbeddings(chunked_docs):\n",
        "    # Create embeddings and store them in a FAISS vector store\n",
        "    embedder = HuggingFaceEmbeddings()\n",
        "    vector_store = FAISS.from_documents(chunked_docs, embedder)\n",
        "    return vector_store"
      ],
      "metadata": {
        "id": "JXMovxhTcEDK"
      },
      "execution_count": 12,
      "outputs": []
    },
    {
      "cell_type": "markdown",
      "source": [
        "Use those embeddings to feed the LLM model and Answer Questions"
      ],
      "metadata": {
        "id": "gG6T35zWa3vn"
      }
    },
    {
      "cell_type": "code",
      "source": [
        "from langchain.chains.question_answering import load_qa_chain\n",
        "from langchain import HuggingFaceHub"
      ],
      "metadata": {
        "id": "7fldXptla8fQ"
      },
      "execution_count": 13,
      "outputs": []
    },
    {
      "cell_type": "code",
      "source": [
        "def loadLLMModel():\n",
        "    llm=HuggingFaceHub(repo_id=\"mistralai/Mixtral-8x7B-Instruct-v0.1\", model_kwargs={\"temperature\":0, \"max_length\":2048})\n",
        "    chain = load_qa_chain(llm, chain_type=\"stuff\")\n",
        "    return chain\n",
        "\n",
        "def askQuestions(vector_store, chain, question):\n",
        "    # Ask a question using the QA chain\n",
        "    similar_docs = vector_store.similarity_search(question)\n",
        "    response = chain.run(input_documents=similar_docs, question=question)\n",
        "    return response"
      ],
      "metadata": {
        "id": "wWFvKJT9a_vn"
      },
      "execution_count": 34,
      "outputs": []
    },
    {
      "cell_type": "code",
      "source": [
        "chain = loadLLMModel()"
      ],
      "metadata": {
        "id": "J1PZyCqkbDPi"
      },
      "execution_count": 35,
      "outputs": []
    },
    {
      "cell_type": "markdown",
      "source": [
        "Testing"
      ],
      "metadata": {
        "id": "kndUK6XqbF9v"
      }
    },
    {
      "cell_type": "code",
      "source": [
        "PDF_loaded_docs = loadPDFFromLocal()\n",
        "PDF_chunked_docs = splitDocument(PDF_loaded_docs)\n",
        "PDF_vector_store = createEmbeddings(PDF_loaded_docs)"
      ],
      "metadata": {
        "id": "PGdH7wKkkLeF"
      },
      "execution_count": null,
      "outputs": []
    },
    {
      "cell_type": "code",
      "source": [
        "PDF_loaded_docs = loadFromUrl()\n",
        "PDF_vector_store = createEmbeddings(PDF_loaded_docs)"
      ],
      "metadata": {
        "id": "nl0DNvVpjZlR"
      },
      "execution_count": null,
      "outputs": []
    },
    {
      "cell_type": "code",
      "source": [
        "PDF_response = askQuestions(PDF_vector_store, chain, \"Summarize the content of this paper please\")\n",
        "print(PDF_response)"
      ],
      "metadata": {
        "id": "gCUBPwVdbKge"
      },
      "execution_count": null,
      "outputs": []
    }
  ]
}